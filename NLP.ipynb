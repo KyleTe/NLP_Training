{
  "nbformat": 4,
  "nbformat_minor": 0,
  "metadata": {
    "accelerator": "GPU",
    "colab": {
      "name": "0428 NLP Assignment.ipynb",
      "provenance": [],
      "collapsed_sections": []
    },
    "kernelspec": {
      "display_name": "Python 3",
      "name": "python3"
    }
  },
  "cells": [
    {
      "cell_type": "code",
      "metadata": {
        "id": "hmA6EzkQJ5jt"
      },
      "source": [
        "import json\n",
        "import tensorflow as tf\n",
        "import csv\n",
        "import random\n",
        "import numpy as np\n",
        "\n",
        "from tensorflow.keras.preprocessing.text import Tokenizer\n",
        "from tensorflow.keras.preprocessing.sequence import pad_sequences\n",
        "from tensorflow.keras.utils import to_categorical\n",
        "from tensorflow.keras import regularizers\n",
        "\n",
        "# Hyperparameter\n",
        "embedding_dim = 100\n",
        "max_length = 16\n",
        "trunc_type='post'\n",
        "padding_type='post'\n",
        "oov_tok = \"<OOV>\"\n",
        "#TODO this is the size of the training data set which you will get below\n",
        "training_size= 160000 \n",
        "test_portion=.1\n",
        "corpus = []\n"
      ],
      "execution_count": null,
      "outputs": []
    },
    {
      "cell_type": "code",
      "metadata": {
        "id": "bM0l_dORKqE0",
        "colab": {
          "base_uri": "https://localhost:8080/",
          "height": 204
        },
        "outputId": "ac45bf51-d2d5-4959-b006-a7e5485cf8be"
      },
      "source": [
        "# Ingest a cleaned version of the data set from https://www.kaggle.com/kazanova/sentiment140\n",
        "\n",
        "!wget --no-check-certificate \\\n",
        "    https://storage.googleapis.com/laurencemoroney-blog.appspot.com/training_cleaned.csv \\\n",
        "    -O /tmp/training_cleaned.csv\n",
        "\n",
        "num_sentences = 0\n",
        "\n",
        "with open(\"/tmp/training_cleaned.csv\") as csvfile:\n",
        "    reader = csv.reader(csvfile, delimiter=',')\n",
        "    for row in reader:\n",
        "        list_item=[]\n",
        "        list_item.append(row[5])\n",
        "        list_item.append(0) if row[0] == '0' else list_item.append(1)\n",
        "        # TODO: 1st item in list_item is the text found in index [5]; 2nd item is the label: it should be 0 if the first item of the row is '0'. Otherwise, the label should be '1'\n",
        "\n",
        "        num_sentences = num_sentences + 1\n",
        "        corpus.append(list_item)\n"
      ],
      "execution_count": null,
      "outputs": [
        {
          "output_type": "stream",
          "text": [
            "--2020-04-30 04:05:24--  https://storage.googleapis.com/laurencemoroney-blog.appspot.com/training_cleaned.csv\n",
            "Resolving storage.googleapis.com (storage.googleapis.com)... 74.125.20.128, 2607:f8b0:400e:c07::80\n",
            "Connecting to storage.googleapis.com (storage.googleapis.com)|74.125.20.128|:443... connected.\n",
            "HTTP request sent, awaiting response... 200 OK\n",
            "Length: 238942690 (228M) [application/octet-stream]\n",
            "Saving to: ‘/tmp/training_cleaned.csv’\n",
            "\n",
            "/tmp/training_clean 100%[===================>] 227.87M   150MB/s    in 1.5s    \n",
            "\n",
            "2020-04-30 04:05:26 (150 MB/s) - ‘/tmp/training_cleaned.csv’ saved [238942690/238942690]\n",
            "\n"
          ],
          "name": "stdout"
        }
      ]
    },
    {
      "cell_type": "code",
      "metadata": {
        "id": "3kxblBUjEUX-",
        "colab": {
          "base_uri": "https://localhost:8080/",
          "height": 68
        },
        "outputId": "a28aa708-ef4d-4491-99e7-f02ea3815efd"
      },
      "source": [
        "print(num_sentences)\n",
        "print(len(corpus))\n",
        "print(corpus[1])\n",
        "\n",
        "# Expected Output:\n",
        "# 1600000\n",
        "# 1600000\n",
        "# [\"is upset that he can't update his Facebook by texting it... and might cry as a result  School today also. Blah!\", 0]"
      ],
      "execution_count": null,
      "outputs": [
        {
          "output_type": "stream",
          "text": [
            "1600000\n",
            "1600000\n",
            "[\"is upset that he can't update his Facebook by texting it... and might cry as a result  School today also. Blah!\", 0]\n"
          ],
          "name": "stdout"
        }
      ]
    },
    {
      "cell_type": "code",
      "metadata": {
        "id": "ohOGz24lsNAD"
      },
      "source": [
        "sentences=[]\n",
        "labels=[]\n",
        "random.shuffle(corpus)\n",
        "for x in range(training_size):\n",
        "    sentences.append(corpus[x][0])\n",
        "    labels.append(corpus[x][1])\n",
        "\n",
        "tokenizer = Tokenizer()\n",
        "tokenizer.fit_on_texts(sentences)\n",
        "\n",
        "word_index = tokenizer.word_index\n",
        "vocab_size=len(word_index) \n",
        "\n",
        "sequences = tokenizer.texts_to_sequences(sentences)\n",
        "padded = pad_sequences(sequences, maxlen=max_length, truncating=trunc_type)\n",
        "\n",
        "split = int(test_portion * training_size)\n",
        "\n",
        "test_sequences = padded[:split]\n",
        "training_sequences = padded[split:]\n",
        "test_labels = labels[:split]\n",
        "training_labels = labels[split:]"
      ],
      "execution_count": null,
      "outputs": []
    },
    {
      "cell_type": "code",
      "metadata": {
        "id": "gIrtRem1En3N",
        "colab": {
          "base_uri": "https://localhost:8080/",
          "height": 51
        },
        "outputId": "b03a76f4-ba91-488d-a8b1-4d00a90d93d1"
      },
      "source": [
        "print(vocab_size)\n",
        "print(word_index['i'])\n",
        "# Expected Output\n",
        "# 138494\n",
        "# 1"
      ],
      "execution_count": null,
      "outputs": [
        {
          "output_type": "stream",
          "text": [
            "138775\n",
            "1\n"
          ],
          "name": "stdout"
        }
      ]
    },
    {
      "cell_type": "code",
      "metadata": {
        "id": "C1zdgJkusRh0",
        "colab": {
          "base_uri": "https://localhost:8080/",
          "height": 204
        },
        "outputId": "ae103f47-0a12-48ef-98d3-66cb2ebe18c8"
      },
      "source": [
        "# Note this is the 100 dimension version of GloVe from Stanford\n",
        "# Laurence Moroney unzipped and hosted it on his site to make this notebook easier\n",
        "!wget --no-check-certificate \\\n",
        "    https://storage.googleapis.com/laurencemoroney-blog.appspot.com/glove.6B.100d.txt \\\n",
        "    -O /tmp/glove.6B.100d.txt\n",
        "embeddings_index = {};\n",
        "with open('/tmp/glove.6B.100d.txt') as f:\n",
        "    for line in f:\n",
        "        values = line.split();\n",
        "        word = values[0];\n",
        "        coefs = np.asarray(values[1:], dtype='float32');\n",
        "        embeddings_index[word] = coefs;\n",
        "\n",
        "embeddings_matrix = np.zeros((vocab_size+1, embedding_dim));\n",
        "for word, i in word_index.items():\n",
        "    embedding_vector = embeddings_index.get(word);\n",
        "    if embedding_vector is not None:\n",
        "        embeddings_matrix[i] = embedding_vector;"
      ],
      "execution_count": null,
      "outputs": [
        {
          "output_type": "stream",
          "text": [
            "--2020-04-30 04:05:38--  https://storage.googleapis.com/laurencemoroney-blog.appspot.com/glove.6B.100d.txt\n",
            "Resolving storage.googleapis.com (storage.googleapis.com)... 74.125.195.128, 2607:f8b0:400e:c07::80\n",
            "Connecting to storage.googleapis.com (storage.googleapis.com)|74.125.195.128|:443... connected.\n",
            "HTTP request sent, awaiting response... 200 OK\n",
            "Length: 347116733 (331M) [text/plain]\n",
            "Saving to: ‘/tmp/glove.6B.100d.txt’\n",
            "\n",
            "/tmp/glove.6B.100d. 100%[===================>] 331.04M   119MB/s    in 2.8s    \n",
            "\n",
            "2020-04-30 04:05:41 (119 MB/s) - ‘/tmp/glove.6B.100d.txt’ saved [347116733/347116733]\n",
            "\n"
          ],
          "name": "stdout"
        }
      ]
    },
    {
      "cell_type": "code",
      "metadata": {
        "id": "71NLk_lpFLNt",
        "colab": {
          "base_uri": "https://localhost:8080/",
          "height": 34
        },
        "outputId": "1b7c9ae7-3bf0-4150-93db-63de6f2d26b3"
      },
      "source": [
        "print(len(embeddings_matrix))\n",
        "# Expected Output\n",
        "# 138495"
      ],
      "execution_count": null,
      "outputs": [
        {
          "output_type": "stream",
          "text": [
            "138776\n"
          ],
          "name": "stdout"
        }
      ]
    },
    {
      "cell_type": "code",
      "metadata": {
        "id": "iKKvbuEBOGFz",
        "colab": {
          "base_uri": "https://localhost:8080/",
          "height": 1000
        },
        "outputId": "d399c17f-63c3-4b10-b617-35cbc6870c2a"
      },
      "source": [
        "training_labels = np.asarray(training_labels)\n",
        "test_labels = np.asarray(test_labels)\n",
        "\n",
        "model = tf.keras.Sequential([\n",
        "    #TODO \n",
        "    # Embedding layer\n",
        "    tf.keras.layers.Embedding(vocab_size+1, embedding_dim, input_length=max_length, weights=[embeddings_matrix], trainable=False),\n",
        "    # Dropout of 20%\n",
        "    tf.keras.layers.Dropout(0.2),\n",
        "    # Conv1D layer\n",
        "    tf.keras.layers.Conv1D(128, 3, activation='relu'),\n",
        "    # MaxPooling1D with size 4\n",
        "    tf.keras.layers.MaxPooling1D(4),\n",
        "    # LSTM layer\n",
        "    tf.keras.layers.Bidirectional(tf.keras.layers.LSTM(64, return_sequences=True)),\n",
        "    tf.keras.layers.Bidirectional(tf.keras.layers.LSTM(32)),\n",
        "    # Output Dense layer\n",
        "    tf.keras.layers.Dense(32, activation='relu'),\n",
        "    tf.keras.layers.Dense(1, activation='sigmoid')\n",
        "])\n",
        "model.compile(loss='binary_crossentropy',optimizer='adam',metrics=['accuracy'])\n",
        "model.summary()\n",
        "\n",
        "num_epochs = 50\n",
        "history = model.fit(training_sequences, training_labels, epochs=num_epochs, validation_data=(test_sequences, test_labels), verbose=2)\n",
        "\n",
        "print(\"Training Complete\")\n",
        "\n"
      ],
      "execution_count": null,
      "outputs": [
        {
          "output_type": "stream",
          "text": [
            "Model: \"sequential\"\n",
            "_________________________________________________________________\n",
            "Layer (type)                 Output Shape              Param #   \n",
            "=================================================================\n",
            "embedding (Embedding)        (None, 16, 100)           13877600  \n",
            "_________________________________________________________________\n",
            "dropout (Dropout)            (None, 16, 100)           0         \n",
            "_________________________________________________________________\n",
            "conv1d (Conv1D)              (None, 14, 128)           38528     \n",
            "_________________________________________________________________\n",
            "max_pooling1d (MaxPooling1D) (None, 3, 128)            0         \n",
            "_________________________________________________________________\n",
            "bidirectional (Bidirectional (None, 3, 128)            98816     \n",
            "_________________________________________________________________\n",
            "bidirectional_1 (Bidirection (None, 64)                41216     \n",
            "_________________________________________________________________\n",
            "dense (Dense)                (None, 32)                2080      \n",
            "_________________________________________________________________\n",
            "dense_1 (Dense)              (None, 1)                 33        \n",
            "=================================================================\n",
            "Total params: 14,058,273\n",
            "Trainable params: 180,673\n",
            "Non-trainable params: 13,877,600\n",
            "_________________________________________________________________\n",
            "Epoch 1/50\n",
            "4500/4500 - 31s - loss: 0.5990 - accuracy: 0.6738 - val_loss: 0.5625 - val_accuracy: 0.7071\n",
            "Epoch 2/50\n",
            "4500/4500 - 30s - loss: 0.5665 - accuracy: 0.7035 - val_loss: 0.5513 - val_accuracy: 0.7169\n",
            "Epoch 3/50\n",
            "4500/4500 - 30s - loss: 0.5527 - accuracy: 0.7141 - val_loss: 0.5500 - val_accuracy: 0.7172\n",
            "Epoch 4/50\n",
            "4500/4500 - 30s - loss: 0.5433 - accuracy: 0.7204 - val_loss: 0.5451 - val_accuracy: 0.7226\n",
            "Epoch 5/50\n",
            "4500/4500 - 30s - loss: 0.5343 - accuracy: 0.7298 - val_loss: 0.5481 - val_accuracy: 0.7214\n",
            "Epoch 6/50\n",
            "4500/4500 - 31s - loss: 0.5264 - accuracy: 0.7325 - val_loss: 0.5480 - val_accuracy: 0.7243\n",
            "Epoch 7/50\n",
            "4500/4500 - 30s - loss: 0.5197 - accuracy: 0.7375 - val_loss: 0.5502 - val_accuracy: 0.7196\n",
            "Epoch 8/50\n",
            "4500/4500 - 30s - loss: 0.5129 - accuracy: 0.7412 - val_loss: 0.5497 - val_accuracy: 0.7170\n",
            "Epoch 9/50\n",
            "4500/4500 - 30s - loss: 0.5070 - accuracy: 0.7462 - val_loss: 0.5502 - val_accuracy: 0.7226\n",
            "Epoch 10/50\n",
            "4500/4500 - 30s - loss: 0.5022 - accuracy: 0.7491 - val_loss: 0.5481 - val_accuracy: 0.7186\n",
            "Epoch 11/50\n",
            "4500/4500 - 30s - loss: 0.4981 - accuracy: 0.7509 - val_loss: 0.5558 - val_accuracy: 0.7226\n",
            "Epoch 12/50\n",
            "4500/4500 - 30s - loss: 0.4923 - accuracy: 0.7550 - val_loss: 0.5619 - val_accuracy: 0.7168\n",
            "Epoch 13/50\n",
            "4500/4500 - 30s - loss: 0.4878 - accuracy: 0.7585 - val_loss: 0.5556 - val_accuracy: 0.7233\n",
            "Epoch 14/50\n",
            "4500/4500 - 31s - loss: 0.4855 - accuracy: 0.7590 - val_loss: 0.5623 - val_accuracy: 0.7148\n",
            "Epoch 15/50\n",
            "4500/4500 - 31s - loss: 0.4807 - accuracy: 0.7619 - val_loss: 0.5700 - val_accuracy: 0.7197\n",
            "Epoch 16/50\n",
            "4500/4500 - 31s - loss: 0.4769 - accuracy: 0.7650 - val_loss: 0.5774 - val_accuracy: 0.7174\n",
            "Epoch 17/50\n",
            "4500/4500 - 31s - loss: 0.4756 - accuracy: 0.7647 - val_loss: 0.5623 - val_accuracy: 0.7182\n",
            "Epoch 18/50\n",
            "4500/4500 - 30s - loss: 0.4715 - accuracy: 0.7685 - val_loss: 0.5774 - val_accuracy: 0.7159\n",
            "Epoch 19/50\n",
            "4500/4500 - 30s - loss: 0.4688 - accuracy: 0.7685 - val_loss: 0.5781 - val_accuracy: 0.7190\n",
            "Epoch 20/50\n",
            "4500/4500 - 31s - loss: 0.4651 - accuracy: 0.7724 - val_loss: 0.5747 - val_accuracy: 0.7156\n",
            "Epoch 21/50\n",
            "4500/4500 - 30s - loss: 0.4644 - accuracy: 0.7713 - val_loss: 0.5807 - val_accuracy: 0.7176\n",
            "Epoch 22/50\n",
            "4500/4500 - 30s - loss: 0.4624 - accuracy: 0.7727 - val_loss: 0.5800 - val_accuracy: 0.7161\n",
            "Epoch 23/50\n",
            "4500/4500 - 30s - loss: 0.4594 - accuracy: 0.7754 - val_loss: 0.5882 - val_accuracy: 0.7119\n",
            "Epoch 24/50\n",
            "4500/4500 - 30s - loss: 0.4587 - accuracy: 0.7755 - val_loss: 0.5929 - val_accuracy: 0.7088\n",
            "Epoch 25/50\n",
            "4500/4500 - 30s - loss: 0.4555 - accuracy: 0.7771 - val_loss: 0.5993 - val_accuracy: 0.7142\n",
            "Epoch 26/50\n",
            "4500/4500 - 30s - loss: 0.4533 - accuracy: 0.7790 - val_loss: 0.5937 - val_accuracy: 0.7121\n",
            "Epoch 27/50\n",
            "4500/4500 - 31s - loss: 0.4535 - accuracy: 0.7787 - val_loss: 0.5942 - val_accuracy: 0.7092\n",
            "Epoch 28/50\n",
            "4500/4500 - 30s - loss: 0.4518 - accuracy: 0.7803 - val_loss: 0.5943 - val_accuracy: 0.7087\n",
            "Epoch 29/50\n",
            "4500/4500 - 30s - loss: 0.4503 - accuracy: 0.7819 - val_loss: 0.5956 - val_accuracy: 0.7146\n",
            "Epoch 30/50\n",
            "4500/4500 - 30s - loss: 0.4495 - accuracy: 0.7821 - val_loss: 0.5924 - val_accuracy: 0.7097\n",
            "Epoch 31/50\n",
            "4500/4500 - 30s - loss: 0.4487 - accuracy: 0.7833 - val_loss: 0.5963 - val_accuracy: 0.7113\n",
            "Epoch 32/50\n",
            "4500/4500 - 30s - loss: 0.4470 - accuracy: 0.7831 - val_loss: 0.6009 - val_accuracy: 0.7099\n",
            "Epoch 33/50\n",
            "4500/4500 - 30s - loss: 0.4470 - accuracy: 0.7842 - val_loss: 0.6008 - val_accuracy: 0.7056\n",
            "Epoch 34/50\n",
            "4500/4500 - 30s - loss: 0.4447 - accuracy: 0.7847 - val_loss: 0.5970 - val_accuracy: 0.7050\n",
            "Epoch 35/50\n",
            "4500/4500 - 30s - loss: 0.4437 - accuracy: 0.7863 - val_loss: 0.6047 - val_accuracy: 0.7082\n",
            "Epoch 36/50\n",
            "4500/4500 - 30s - loss: 0.4420 - accuracy: 0.7869 - val_loss: 0.6081 - val_accuracy: 0.7088\n",
            "Epoch 37/50\n",
            "4500/4500 - 31s - loss: 0.4417 - accuracy: 0.7877 - val_loss: 0.6179 - val_accuracy: 0.7032\n",
            "Epoch 38/50\n",
            "4500/4500 - 30s - loss: 0.4406 - accuracy: 0.7871 - val_loss: 0.6011 - val_accuracy: 0.7059\n",
            "Epoch 39/50\n",
            "4500/4500 - 30s - loss: 0.4395 - accuracy: 0.7884 - val_loss: 0.5951 - val_accuracy: 0.7079\n",
            "Epoch 40/50\n",
            "4500/4500 - 30s - loss: 0.4392 - accuracy: 0.7889 - val_loss: 0.6030 - val_accuracy: 0.7018\n",
            "Epoch 41/50\n",
            "4500/4500 - 30s - loss: 0.4406 - accuracy: 0.7859 - val_loss: 0.6134 - val_accuracy: 0.7053\n",
            "Epoch 42/50\n",
            "4500/4500 - 30s - loss: 0.4377 - accuracy: 0.7883 - val_loss: 0.6116 - val_accuracy: 0.7078\n",
            "Epoch 43/50\n",
            "4500/4500 - 30s - loss: 0.4359 - accuracy: 0.7894 - val_loss: 0.6019 - val_accuracy: 0.7078\n",
            "Epoch 44/50\n",
            "4500/4500 - 30s - loss: 0.4355 - accuracy: 0.7900 - val_loss: 0.6148 - val_accuracy: 0.7079\n",
            "Epoch 45/50\n",
            "4500/4500 - 30s - loss: 0.4354 - accuracy: 0.7906 - val_loss: 0.6204 - val_accuracy: 0.7097\n",
            "Epoch 46/50\n",
            "4500/4500 - 30s - loss: 0.4346 - accuracy: 0.7903 - val_loss: 0.6211 - val_accuracy: 0.7043\n",
            "Epoch 47/50\n",
            "4500/4500 - 31s - loss: 0.4351 - accuracy: 0.7913 - val_loss: 0.6169 - val_accuracy: 0.7039\n",
            "Epoch 48/50\n",
            "4500/4500 - 31s - loss: 0.4351 - accuracy: 0.7910 - val_loss: 0.6227 - val_accuracy: 0.7084\n",
            "Epoch 49/50\n",
            "4500/4500 - 30s - loss: 0.4336 - accuracy: 0.7914 - val_loss: 0.6217 - val_accuracy: 0.7058\n",
            "Epoch 50/50\n",
            "4500/4500 - 31s - loss: 0.4316 - accuracy: 0.7923 - val_loss: 0.6206 - val_accuracy: 0.7016\n",
            "Training Complete\n"
          ],
          "name": "stdout"
        }
      ]
    },
    {
      "cell_type": "code",
      "metadata": {
        "id": "qxju4ItJKO8F",
        "colab": {
          "base_uri": "https://localhost:8080/",
          "height": 607
        },
        "outputId": "54ff6024-d925-44b0-d87e-bf09bfac8197"
      },
      "source": [
        "import matplotlib.image  as mpimg\n",
        "import matplotlib.pyplot as plt\n",
        "\n",
        "#-----------------------------------------------------------\n",
        "# Retrieve a list of list results on training and test data\n",
        "# sets for each training epoch\n",
        "#-----------------------------------------------------------\n",
        "acc=history.history['accuracy']\n",
        "val_acc=history.history['val_accuracy']\n",
        "loss=history.history['loss']\n",
        "val_loss=history.history['val_loss']\n",
        "\n",
        "epochs=range(len(acc)) # Get number of epochs\n",
        "\n",
        "#------------------------------------------------\n",
        "# Plot training and validation accuracy per epoch\n",
        "#------------------------------------------------\n",
        "plt.plot(epochs, acc, 'r')\n",
        "plt.plot(epochs, val_acc, 'b')\n",
        "plt.title('Training and validation accuracy')\n",
        "plt.xlabel(\"Epochs\")\n",
        "plt.ylabel(\"Accuracy\")\n",
        "plt.legend([\"Accuracy\", \"Validation Accuracy\"])\n",
        "\n",
        "plt.figure()\n",
        "\n",
        "#------------------------------------------------\n",
        "# Plot training and validation loss per epoch\n",
        "#------------------------------------------------\n",
        "plt.plot(epochs, loss, 'r')\n",
        "plt.plot(epochs, val_loss, 'b')\n",
        "plt.title('Training and validation loss')\n",
        "plt.xlabel(\"Epochs\")\n",
        "plt.ylabel(\"Loss\")\n",
        "plt.legend([\"Loss\", \"Validation Loss\"])\n",
        "\n",
        "plt.figure()\n",
        "\n",
        "# Expected Output\n",
        "# A chart where the validation loss does not increase sharply!\n",
        "# The graph should look like something below"
      ],
      "execution_count": null,
      "outputs": [
        {
          "output_type": "execute_result",
          "data": {
            "text/plain": [
              "<Figure size 432x288 with 0 Axes>"
            ]
          },
          "metadata": {
            "tags": []
          },
          "execution_count": 9
        },
        {
          "output_type": "display_data",
          "data": {
            "image/png": "[encoded data removed]",
            "text/plain": [
              "<Figure size 432x288 with 1 Axes>"
            ]
          },
          "metadata": {
            "tags": [],
            "needs_background": "light"
          }
        },
        {
          "output_type": "display_data",
          "data": {
            "image/png": "[encoded data removed]",
            "text/plain": [
              "<Figure size 432x288 with 1 Axes>"
            ]
          },
          "metadata": {
            "tags": [],
            "needs_background": "light"
          }
        },
        {
          "output_type": "display_data",
          "data": {
            "text/plain": [
              "<Figure size 432x288 with 0 Axes>"
            ]
          },
          "metadata": {
            "tags": []
          }
        }
      ]
    },
    {
      "cell_type": "markdown",
      "metadata": {
        "id": "K4vI1uILjG0S"
      },
      "source": [
        "![image.png](data:image/png;base64,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)"
      ]
    },
    {
      "cell_type": "markdown",
      "metadata": {
        "id": "hZA_anSgjM-4"
      },
      "source": [
        "![image.png](data:image/png;base64,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)"
      ]
    }
  ]
}